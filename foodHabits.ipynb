{
 "cells": [
  {
   "cell_type": "code",
   "execution_count": null,
   "id": "9a56dd66-bfdd-495e-b305-463e8e57b4f4",
   "metadata": {},
   "outputs": [],
   "source": [
    "#imports\n",
    "import pandas as pd\n",
    "import seaborn as sns\n",
    "import matplotlib.pylab as plt"
   ]
  },
  {
   "cell_type": "code",
   "execution_count": null,
   "id": "6c1923e7-9714-46b7-931c-3a8caa4d3b7e",
   "metadata": {},
   "outputs": [],
   "source": [
    "#load data\n",
    "df = pd.read_csv('Food Habits.csv')\n",
    "#number of rows of data and the number of variables - How many rows are there?  How many variables?\n",
    "df.shape"
   ]
  },
  {
   "cell_type": "code",
   "execution_count": null,
   "id": "5b42625a-c161-4442-87cb-077b8e4af5bf",
   "metadata": {},
   "outputs": [],
   "source": [
    "#preview the first 5 rows of data (some variables might get cut off)\n",
    "df.head()"
   ]
  },
  {
   "cell_type": "code",
   "execution_count": null,
   "id": "57c3430e-ce03-4358-a149-1d15d58514b2",
   "metadata": {},
   "outputs": [],
   "source": [
    "#Check the datatypes.  \"object\" is categorical.  \"int64\" and \"float64\" are numerical \n",
    "#Warning!  snack_name and why_eating say object but are text.  We don't know how to analyze those yet\n",
    "df.dtypes"
   ]
  },
  {
   "cell_type": "code",
   "execution_count": null,
   "id": "99174cb2-e370-47b3-9b57-b0a0666636e0",
   "metadata": {},
   "outputs": [],
   "source": [
    "#Advanced: This is in case you want to subset on some text like snack name\n",
    "#df is still the full dataset\n",
    "#chips is just the rows that contain takis OR cheeto\n",
    "#you can make plots of just the chips if you want\n",
    "chips = df[df['snack_name'].str.lower().str.contains('takis|cheeto')]\n",
    "chips"
   ]
  },
  {
   "cell_type": "code",
   "execution_count": null,
   "id": "6cdddfce-93c5-4832-a97c-bd4d3c97c6d9",
   "metadata": {},
   "outputs": [],
   "source": []
  }
 ],
 "metadata": {
  "kernelspec": {
   "display_name": "Python 3 (ipykernel)",
   "language": "python",
   "name": "python3"
  },
  "language_info": {
   "codemirror_mode": {
    "name": "ipython",
    "version": 3
   },
   "file_extension": ".py",
   "mimetype": "text/x-python",
   "name": "python",
   "nbconvert_exporter": "python",
   "pygments_lexer": "ipython3",
   "version": "3.9.12"
  }
 },
 "nbformat": 4,
 "nbformat_minor": 5
}
